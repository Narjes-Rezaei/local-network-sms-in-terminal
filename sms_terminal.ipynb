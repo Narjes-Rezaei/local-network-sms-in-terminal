{
  "nbformat": 4,
  "nbformat_minor": 0,
  "metadata": {
    "colab": {
      "provenance": [],
      "authorship_tag": "ABX9TyMHQVfTl9DbqbpXp/9f456p",
      "include_colab_link": true
    },
    "kernelspec": {
      "name": "python3",
      "display_name": "Python 3"
    },
    "language_info": {
      "name": "python"
    }
  },
  "cells": [
    {
      "cell_type": "markdown",
      "metadata": {
        "id": "view-in-github",
        "colab_type": "text"
      },
      "source": [
        "<a href=\"https://colab.research.google.com/github/Narjes-Rezaei/local-network-sms-in-terminal/blob/main/sms_terminal.ipynb\" target=\"_parent\"><img src=\"https://colab.research.google.com/assets/colab-badge.svg\" alt=\"Open In Colab\"/></a>"
      ]
    },
    {
      "cell_type": "code",
      "execution_count": 4,
      "metadata": {
        "id": "5-79OWvliTY0"
      },
      "outputs": [],
      "source": [
        "#include <iostream>\n",
        "#include <cstring>\n",
        "#include <unistd.h>\n",
        "#include <arpa/inet.h>\n",
        "#include <netinet/in.h>\n",
        "#include <netdb.h>"
      ]
    },
    {
      "cell_type": "markdown",
      "source": [
        "<div dir=\"rtl\" style=\"text-align: right;\">\n",
        "**# توضیح کتابخانه هابه ترتیب:**\n",
        "\n",
        "برای چاپ و مدیریت ورودی/ خروجی\n",
        "\n",
        "برای memset وعملیات رشته ای\n",
        "\n",
        "برای close() , gethostname()\n",
        "\n",
        "برای inet_ntoa(), htons(), etc\n",
        "\n",
        "برای sockaddr_in\n",
        "\n",
        "برای gethostbyname()\n",
        "</div>\n",
        "\n"
      ],
      "metadata": {
        "id": "JJMxXqa6jQuo"
      }
    },
    {
      "cell_type": "code",
      "source": [
        "class server{\n",
        "    private:"
      ],
      "metadata": {
        "id": "sDfW_xcklM_l"
      },
      "execution_count": null,
      "outputs": []
    },
    {
      "cell_type": "markdown",
      "source": [
        "<div dir=\"rtl\" style=\"text-align: right;\">\n",
        "تعریف یک کلاس به نام Server.\n",
        "\n",
        "بخش private برای متغیرهای داخلی که بیرون کلاس قابل دسترسی نیستند.\n",
        "</div>"
      ],
      "metadata": {
        "id": "MiEupqwwl_3N"
      }
    },
    {
      "cell_type": "code",
      "source": [
        "       int serverSocket, clientSocket;"
      ],
      "metadata": {
        "id": "E-q0y4UfmFss"
      },
      "execution_count": null,
      "outputs": []
    },
    {
      "cell_type": "markdown",
      "source": [
        "<div dir=\"rtl\" style=\"text-align: right;\">\n",
        "دومتغییر از نوع int برای نگهداری شماره سوکت های سرور و کلاینت\n",
        "</div>"
      ],
      "metadata": {
        "id": "86OudUWwoSOK"
      }
    },
    {
      "cell_type": "code",
      "source": [
        "       sockaddr_in serverAddr, clientAddr;"
      ],
      "metadata": {
        "id": "gUIurB5hooE_"
      },
      "execution_count": null,
      "outputs": []
    },
    {
      "cell_type": "markdown",
      "source": [
        "<div dir=\"rtl\" style=\"text-align: right;\">\n",
        "ساختار ادرس دهی برای سرور و کلاینت(نوع IPv4)\n",
        "</div>"
      ],
      "metadata": {
        "id": "DmF7WVpToxaV"
      }
    },
    {
      "cell_type": "code",
      "source": [
        "       socklen_t clientLen;"
      ],
      "metadata": {
        "id": "7x0_a0brpA2S"
      },
      "execution_count": null,
      "outputs": []
    },
    {
      "cell_type": "markdown",
      "source": [
        "<div dir=\"rtl\" style=\"text-align: right;\">\n",
        "طول ساختار آدرس کلاینت. برای تابع accept() استفاده می‌شود."
      ],
      "metadata": {
        "id": "PxcsOdCJpFbf"
      }
    },
    {
      "cell_type": "code",
      "source": [
        "       char buffer[1024];"
      ],
      "metadata": {
        "id": "wjfa54sKpWmU"
      },
      "execution_count": null,
      "outputs": []
    },
    {
      "cell_type": "markdown",
      "source": [
        "<div dir=\"rtl\" style=\"text-align: right;\">\n",
        "یک آرایه برای ذخیره پیام دریافتی به اندازه ۱۰۲۴ بایت."
      ],
      "metadata": {
        "id": "q99GhUlMpYdP"
      }
    },
    {
      "cell_type": "code",
      "source": [
        "       const int PORT = 8080;\n"
      ],
      "metadata": {
        "id": "KdvXTsohpfEc"
      },
      "execution_count": null,
      "outputs": []
    },
    {
      "cell_type": "markdown",
      "source": [
        "<div dir=\"rtl\" style=\"text-align: right;\">\n",
        "شماره پورتی که سرور روی آن گوش می‌دهد. ثابت است.\n",
        "\n"
      ],
      "metadata": {
        "id": "L2tso99upiBU"
      }
    },
    {
      "cell_type": "code",
      "source": [
        "    public:\n",
        "        Server() {\n",
        "            serverSocket = socket(AF_INET, SOCK_STREAM, 0);\n",
        "            if (serverSocket < 0) {\n",
        "                cerr << \"Error creating socket.\" << endl;\n",
        "                exit(1);\n",
        "            }"
      ],
      "metadata": {
        "id": "_KBqfMkipoB1"
      },
      "execution_count": null,
      "outputs": []
    },
    {
      "cell_type": "markdown",
      "source": [],
      "metadata": {
        "id": "vcVH7wGwqCsG"
      }
    },
    {
      "cell_type": "code",
      "source": [
        "public:\n",
        "    Server() {\n",
        "        serverSocket = socket(AF_INET, SOCK_STREAM, 0);\n",
        "        if (serverSocket < 0) {\n",
        "            cerr << \"Error creating socket.\" << endl;\n",
        "            exit(1);\n",
        "        }\n"
      ],
      "metadata": {
        "id": "oOuHyYpmqW08"
      },
      "execution_count": null,
      "outputs": []
    },
    {
      "cell_type": "markdown",
      "source": [],
      "metadata": {
        "id": "t7ivlwPuqd3s"
      }
    },
    {
      "cell_type": "code",
      "source": [
        "        if (bind(serverSocket, (struct sockaddr*)&serverAddr, sizeof(serverAddr)) < 0) {\n",
        "            cerr << \"Bind failed.\" << endl;\n",
        "            exit(1);\n",
        "        }\n",
        "    }"
      ],
      "metadata": {
        "id": "U3u_P0CBqdDk"
      },
      "execution_count": null,
      "outputs": []
    },
    {
      "cell_type": "code",
      "source": [
        "    void startListening() {\n",
        "        listen(serverSocket, 1);\n",
        "        cout << \"Server is listening on port \" << PORT << \"...\" << endl;"
      ],
      "metadata": {
        "id": "dmPs44P3qh1d"
      },
      "execution_count": null,
      "outputs": []
    },
    {
      "cell_type": "code",
      "source": [
        "        clientLen = sizeof(clientAddr);\n",
        "        clientSocket = accept(serverSocket, (struct sockaddr*)&clientAddr, &clientLen);\n",
        "        if (clientSocket < 0) {\n",
        "            cerr << \"Failed to accept client connection.\" << endl;\n",
        "            exit(1);\n",
        "        }\n",
        "        cout << \"Client connected!\" << endl;\n",
        "    }"
      ],
      "metadata": {
        "id": "b3HyJuaLqlji"
      },
      "execution_count": null,
      "outputs": []
    },
    {
      "cell_type": "code",
      "source": [
        "    string getOwnIP() {\n",
        "        char hostbuffer[256];\n",
        "        char *IPbuffer;\n",
        "        struct hostent *host_entry;\n",
        "\n",
        "        gethostname(hostbuffer, sizeof(hostbuffer));\n",
        "        host_entry = gethostbyname(hostbuffer);\n",
        "        IPbuffer = inet_ntoa(*((struct in_addr*)host_entry->h_addr_list[0]));\n",
        "        return string(IPbuffer);\n",
        "    }"
      ],
      "metadata": {
        "id": "Q3S_uL1-qn9v"
      },
      "execution_count": null,
      "outputs": []
    },
    {
      "cell_type": "code",
      "source": [
        "    void sendMessage(const string &message) {\n",
        "        send(clientSocket, message.c_str(), message.length(), 0);\n",
        "    }"
      ],
      "metadata": {
        "id": "achQzUcXqsce"
      },
      "execution_count": null,
      "outputs": []
    },
    {
      "cell_type": "code",
      "source": [
        "    string receiveMessage() {\n",
        "        memset(buffer, 0, sizeof(buffer));\n",
        "        recv(clientSocket, buffer, sizeof(buffer), 0);\n",
        "        return string(buffer);\n",
        "    }"
      ],
      "metadata": {
        "id": "K0bzqXq-quPv"
      },
      "execution_count": null,
      "outputs": []
    },
    {
      "cell_type": "code",
      "source": [
        "    void closeConnection() {\n",
        "        close(clientSocket);\n",
        "        close(serverSocket);\n",
        "        cout << \"Connection closed.\" << endl;\n",
        "    }\n",
        "};"
      ],
      "metadata": {
        "id": "0EIyBtMXqzIa"
      },
      "execution_count": null,
      "outputs": []
    },
    {
      "cell_type": "markdown",
      "source": [],
      "metadata": {
        "id": "-UnLH8VRqcqp"
      }
    }
  ]
}