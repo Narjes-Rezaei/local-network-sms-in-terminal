{
  "nbformat": 4,
  "nbformat_minor": 0,
  "metadata": {
    "colab": {
      "provenance": [],
      "authorship_tag": "ABX9TyMUfjlxvczYzTgebs0f+nKz",
      "include_colab_link": true
    },
    "kernelspec": {
      "name": "python3",
      "display_name": "Python 3"
    },
    "language_info": {
      "name": "python"
    }
  },
  "cells": [
    {
      "cell_type": "markdown",
      "metadata": {
        "id": "view-in-github",
        "colab_type": "text"
      },
      "source": [
        "<a href=\"https://colab.research.google.com/github/Narjes-Rezaei/local-network-sms-in-terminal/blob/main/sms_terminal.ipynb\" target=\"_parent\"><img src=\"https://colab.research.google.com/assets/colab-badge.svg\" alt=\"Open In Colab\"/></a>"
      ]
    },
    {
      "cell_type": "code",
      "execution_count": null,
      "metadata": {
        "id": "5-79OWvliTY0"
      },
      "outputs": [],
      "source": [
        "#include <iostream>      // برای استفاده از cout و cin\n",
        "#include <string>        // برای استفاده از std::string\n",
        "#include <vector>        // برای استفاده از std::vector\n",
        "#include <stdexcept>     // برای پرتاب خطا (مثلاً std::runtime_error)\n",
        "#include <unistd.h>      // برای توابع سیستمی مثل close، read، write، gethostname\n",
        "#include <arpa/inet.h>   // برای تبدیل آدرس‌ها به فرمت شبکه (inet_ntoa، htons و ...)\n",
        "#include <netdb.h>       // برای کار با hostname و IP (gethostbyname)\n",
        "#include <cstring>       // برای memset و کارهای رشته‌ای سطح پایین"
      ]
    },
    {
      "cell_type": "code",
      "source": [
        "private:\n",
        "    int serverSocket = -1;         // سوکت سرور\n",
        "    int clientSocket = -1;         // سوکت کلاینت که به سرور وصل می‌شود\n",
        "    sockaddr_in serverAddr{}, clientAddr{}; // ساختارهای مربوط به آدرس IP و پورت\n",
        "    socklen_t clientLen{};         // طول آدرس کلاینت برای accept\n",
        "    const int PORT = 8080;         // پورت ثابت سرور\n"
      ],
      "metadata": {
        "id": "Pk6HagX42o5-"
      },
      "execution_count": null,
      "outputs": []
    },
    {
      "cell_type": "code",
      "source": [
        "public:\n",
        "Server() {\n",
        "    // ساخت سوکت TCP\n",
        "    serverSocket = socket(AF_INET, SOCK_STREAM, 0);\n",
        "    if (serverSocket == -1)\n",
        "        throw std::runtime_error(\"Error creating socket\");\n"
      ],
      "metadata": {
        "id": "sDfW_xcklM_l"
      },
      "execution_count": null,
      "outputs": []
    },
    {
      "cell_type": "markdown",
      "source": [
        "<div dir=\"rtl\" style=\"text-align: right;\">\n",
        "**تعریف یک کلاس به نام Server.**\n",
        "\n",
        " socket(AF_INET, SOCK_STREAM, 0) → ساخت یک سوکت TCP با استفاده از IPv4\n",
        "\n",
        " اگر ساختن سوکت با شکست مواجه شود، با throw خطا ایجاد می‌کند.</div>"
      ],
      "metadata": {
        "id": "MiEupqwwl_3N"
      }
    },
    {
      "cell_type": "code",
      "source": [
        "    // تنظیمات آدرس سرور\n",
        "    serverAddr.sin_family = AF_INET;               // استفاده از IPv4\n",
        "    serverAddr.sin_addr.s_addr = INADDR_ANY;       // به همه آدرس‌ها گوش بده\n",
        "    serverAddr.sin_port = htons(PORT);             // تبدیل پورت از host به network byte order"
      ],
      "metadata": {
        "id": "Sgm6GA3U2_jz"
      },
      "execution_count": null,
      "outputs": []
    },
    {
      "cell_type": "code",
      "source": [
        "    // اتصال سوکت به پورت\n",
        "    if (bind(serverSocket, reinterpret_cast<sockaddr*>(&serverAddr), sizeof(serverAddr)) < 0)\n",
        "        throw std::runtime_error(\"Error binding\");\n",
        "    std::cout << \"serverSocket is created and connected\" << endl;\n",
        "}\n"
      ],
      "metadata": {
        "id": "E-q0y4UfmFss"
      },
      "execution_count": null,
      "outputs": []
    },
    {
      "cell_type": "markdown",
      "source": [
        "<div dir=\"rtl\" style=\"text-align: right;\">\n",
        "bind اتصال آدرس و پورت به سوکت را انجام می‌دهد.\n",
        "\n",
        " اگر شکست بخورد، خطا پرتاب می‌شود.\n",
        "\n",
        " در غیر اینصورت پیغام :\"\"\n",
        "</div>"
      ],
      "metadata": {
        "id": "86OudUWwoSOK"
      }
    },
    {
      "cell_type": "code",
      "source": [
        "void startListening() {\n",
        "    if (listen(serverSocket, 1) < 0)\n",
        "        throw std::runtime_error(\"Error listening\");"
      ],
      "metadata": {
        "id": "gUIurB5hooE_"
      },
      "execution_count": null,
      "outputs": []
    },
    {
      "cell_type": "markdown",
      "source": [
        "<div dir=\"rtl\" style=\"text-align: right;\">\n",
        "سوکت را در حالت گوش دادن (listen) قرار می‌دهد تا بتواند کلاینت را بپذیرد.\n",
        "\n",
        "\n",
        "</div>"
      ],
      "metadata": {
        "id": "DmF7WVpToxaV"
      }
    },
    {
      "cell_type": "code",
      "source": [
        "    std::cout << \"listening on port: \" << PORT << \"...\" << endl;\n",
        "    clientLen = sizeof(clientAddr);\n",
        "    clientSocket = accept(serverSocket, reinterpret_cast<sockaddr*>(&clientAddr), &clientLen);\n",
        "    if (clientSocket < 0)\n",
        "        throw std::runtime_error(\"Error accepting\");\n",
        "    std::cout << \"client connected\" << endl;\n",
        "}\n"
      ],
      "metadata": {
        "id": "7x0_a0brpA2S"
      },
      "execution_count": null,
      "outputs": []
    },
    {
      "cell_type": "markdown",
      "source": [
        "<div dir=\"rtl\" style=\"text-align: right;\">\n",
        "accept منتظر اتصال کلاینت می‌ماند و پس از اتصال، یک سوکت جدید clientSocket را برمی‌گرداند.\n",
        "\n",
        " اگر خطا رخ دهد، throw می‌کند."
      ],
      "metadata": {
        "id": "PxcsOdCJpFbf"
      }
    },
    {
      "cell_type": "code",
      "source": [
        "std::string getOwnIP() {\n",
        "    char hostname[256];\n",
        "    if (gethostname(hostname, sizeof(hostname)) != 0)\n",
        "        return \"UnknownHost\";"
      ],
      "metadata": {
        "id": "wjfa54sKpWmU"
      },
      "execution_count": null,
      "outputs": []
    },
    {
      "cell_type": "markdown",
      "source": [
        "<div dir=\"rtl\" style=\"text-align: right;\">\n",
        "gethostname نام دستگاه را برمی‌گرداند."
      ],
      "metadata": {
        "id": "q99GhUlMpYdP"
      }
    },
    {
      "cell_type": "code",
      "source": [
        "    hostent* host = gethostbyname(hostname);\n",
        "    if (!host) return \"UnknownIP\";"
      ],
      "metadata": {
        "id": "KdvXTsohpfEc"
      },
      "execution_count": null,
      "outputs": []
    },
    {
      "cell_type": "markdown",
      "source": [
        "<div dir=\"rtl\" style=\"text-align: right;\">\n",
        "gethostbyname آدرس IP را برای hostname برمی‌گرداند.\n",
        "\n"
      ],
      "metadata": {
        "id": "L2tso99upiBU"
      }
    },
    {
      "cell_type": "code",
      "source": [
        "    return std::string(inet_ntoa(*reinterpret_cast<in_addr*>(host->h_addr_list[0])));\n",
        "}"
      ],
      "metadata": {
        "id": "_KBqfMkipoB1"
      },
      "execution_count": null,
      "outputs": []
    },
    {
      "cell_type": "markdown",
      "source": [
        "<div dir=\"rtl\" style=\"text-align: right;\">\n",
        "inet_ntoa تبدیل IP از فرم باینری به رشته قابل خواندن (مثل 192.168.1.1)\n"
      ],
      "metadata": {
        "id": "vcVH7wGwqCsG"
      }
    },
    {
      "cell_type": "code",
      "source": [
        "void sendMessage(const std::string& msg) {\n",
        "    if (send(clientSocket, msg.c_str(), msg.size(), 0) == -1)\n",
        "        std::cerr << \"Error sending message\" << endl;\n",
        "}"
      ],
      "metadata": {
        "id": "oOuHyYpmqW08"
      },
      "execution_count": null,
      "outputs": []
    },
    {
      "cell_type": "markdown",
      "source": [
        "<div dir=\"rtl\" style=\"text-align: right;\">\n",
        " ارسال داده به کلاینت از طریق سوکت با استفاده از تابع send"
      ],
      "metadata": {
        "id": "8HLCnQ475Rq4"
      }
    },
    {
      "cell_type": "code",
      "source": [
        "std::vector<char> buffer(1024, 0);\n",
        "ssize_t bytesReceived = recv(clientSocket, buffer.data(), buffer.size(), 0);\n",
        "if (bytesReceived <= 0) {\n",
        "    return \"\";\n",
        "}\n",
        "return std::string(buffer.data(), bytesReceived);"
      ],
      "metadata": {
        "id": "U3u_P0CBqdDk"
      },
      "execution_count": null,
      "outputs": []
    },
    {
      "cell_type": "markdown",
      "source": [
        "<div dir=\"rtl\" style=\"text-align: right;\">\n",
        " دریافت پیام از کلاینت.\n",
        "\n",
        "اگر تعداد بایت دریافتی صفر یا منفی باشد، اتصال قطع شده یا خطا رخ داده است\n",
        "\n",
        "\n",
        ".پیام دریافتی را به رشته تبدیل می‌کند"
      ],
      "metadata": {
        "id": "t7ivlwPuqd3s"
      }
    },
    {
      "cell_type": "code",
      "source": [
        "void closeConnection() {\n",
        "    if (clientSocket != -1) close(clientSocket);\n",
        "    if (serverSocket != -1) close(serverSocket);\n",
        "    std::cout << \"connection closed\" << endl;\n",
        "}"
      ],
      "metadata": {
        "id": "dmPs44P3qh1d"
      },
      "execution_count": null,
      "outputs": []
    },
    {
      "cell_type": "markdown",
      "source": [
        "<div dir=\"rtl\" style=\"text-align: right;\">\n",
        " بستن سوکت‌ها اگر هنوز باز باشند."
      ],
      "metadata": {
        "id": "-UnLH8VRqcqp"
      }
    }
  ]
}